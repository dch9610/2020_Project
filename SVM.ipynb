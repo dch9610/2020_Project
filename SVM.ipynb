{
 "cells": [
  {
   "cell_type": "code",
   "execution_count": 8,
   "metadata": {},
   "outputs": [],
   "source": [
    "import sklearn.datasets as d\n",
    "from sklearn.svm import SVC\n",
    "\n",
    "ml = SVC(kernel='linear', C=1.0, random_state=0)"
   ]
  },
  {
   "cell_type": "code",
   "execution_count": 9,
   "metadata": {},
   "outputs": [],
   "source": [
    "%matplotlib inline\n",
    "from sklearn import datasets\n",
    "# from sklearn.cross_validation import train_test_split\n",
    "# from sklearn.preprocessing import StrandardScaler"
   ]
  },
  {
   "cell_type": "code",
   "execution_count": 32,
   "metadata": {},
   "outputs": [
    {
     "data": {
      "text/html": [
       "<div>\n",
       "<style scoped>\n",
       "    .dataframe tbody tr th:only-of-type {\n",
       "        vertical-align: middle;\n",
       "    }\n",
       "\n",
       "    .dataframe tbody tr th {\n",
       "        vertical-align: top;\n",
       "    }\n",
       "\n",
       "    .dataframe thead th {\n",
       "        text-align: right;\n",
       "    }\n",
       "</style>\n",
       "<table border=\"1\" class=\"dataframe\">\n",
       "  <thead>\n",
       "    <tr style=\"text-align: right;\">\n",
       "      <th></th>\n",
       "      <th>ADM_CD</th>\n",
       "      <th>ZONE</th>\n",
       "      <th>Dong</th>\n",
       "      <th>SEQ</th>\n",
       "      <th>DISTRICT</th>\n",
       "      <th>F_BEGIN_DE</th>\n",
       "      <th>F_END_DE</th>\n",
       "      <th>F_BEGIN_TM</th>\n",
       "      <th>F_END_TM</th>\n",
       "      <th>FLUD_TIME</th>\n",
       "      <th>...</th>\n",
       "      <th>SLOPE_H</th>\n",
       "      <th>SLOPE_AVG</th>\n",
       "      <th>HIGH</th>\n",
       "      <th>PUMP_RATIO</th>\n",
       "      <th>IMP_SUR_RATIO</th>\n",
       "      <th>MANHOLES_RATIO</th>\n",
       "      <th>HOUR_RAINFALL</th>\n",
       "      <th>PRECI_YYMMDDHH</th>\n",
       "      <th>PRECI_HH</th>\n",
       "      <th>DIST</th>\n",
       "    </tr>\n",
       "  </thead>\n",
       "  <tbody>\n",
       "    <tr>\n",
       "      <th>0</th>\n",
       "      <td>2644010200</td>\n",
       "      <td>강서구</td>\n",
       "      <td>대저2동</td>\n",
       "      <td>102001</td>\n",
       "      <td>강동1지구</td>\n",
       "      <td>20190719</td>\n",
       "      <td>20190720</td>\n",
       "      <td>2300</td>\n",
       "      <td>1200</td>\n",
       "      <td>13</td>\n",
       "      <td>...</td>\n",
       "      <td>2</td>\n",
       "      <td>1.0</td>\n",
       "      <td>1.57</td>\n",
       "      <td>1.189961e-07</td>\n",
       "      <td>24.36</td>\n",
       "      <td>0.006944</td>\n",
       "      <td>0.0</td>\n",
       "      <td>20190719</td>\n",
       "      <td>1</td>\n",
       "      <td>0</td>\n",
       "    </tr>\n",
       "    <tr>\n",
       "      <th>1</th>\n",
       "      <td>2644010200</td>\n",
       "      <td>강서구</td>\n",
       "      <td>대저2동</td>\n",
       "      <td>102001</td>\n",
       "      <td>강동1지구</td>\n",
       "      <td>20190719</td>\n",
       "      <td>20190720</td>\n",
       "      <td>2300</td>\n",
       "      <td>1200</td>\n",
       "      <td>13</td>\n",
       "      <td>...</td>\n",
       "      <td>2</td>\n",
       "      <td>1.0</td>\n",
       "      <td>1.57</td>\n",
       "      <td>1.189961e-07</td>\n",
       "      <td>24.36</td>\n",
       "      <td>0.006944</td>\n",
       "      <td>0.0</td>\n",
       "      <td>20190719</td>\n",
       "      <td>2</td>\n",
       "      <td>0</td>\n",
       "    </tr>\n",
       "    <tr>\n",
       "      <th>2</th>\n",
       "      <td>2644010200</td>\n",
       "      <td>강서구</td>\n",
       "      <td>대저2동</td>\n",
       "      <td>102001</td>\n",
       "      <td>강동1지구</td>\n",
       "      <td>20190719</td>\n",
       "      <td>20190720</td>\n",
       "      <td>2300</td>\n",
       "      <td>1200</td>\n",
       "      <td>13</td>\n",
       "      <td>...</td>\n",
       "      <td>2</td>\n",
       "      <td>1.0</td>\n",
       "      <td>1.57</td>\n",
       "      <td>1.189961e-07</td>\n",
       "      <td>24.36</td>\n",
       "      <td>0.006944</td>\n",
       "      <td>0.1</td>\n",
       "      <td>20190719</td>\n",
       "      <td>3</td>\n",
       "      <td>0</td>\n",
       "    </tr>\n",
       "    <tr>\n",
       "      <th>3</th>\n",
       "      <td>2644010200</td>\n",
       "      <td>강서구</td>\n",
       "      <td>대저2동</td>\n",
       "      <td>102001</td>\n",
       "      <td>강동1지구</td>\n",
       "      <td>20190719</td>\n",
       "      <td>20190720</td>\n",
       "      <td>2300</td>\n",
       "      <td>1200</td>\n",
       "      <td>13</td>\n",
       "      <td>...</td>\n",
       "      <td>2</td>\n",
       "      <td>1.0</td>\n",
       "      <td>1.57</td>\n",
       "      <td>1.189961e-07</td>\n",
       "      <td>24.36</td>\n",
       "      <td>0.006944</td>\n",
       "      <td>4.1</td>\n",
       "      <td>20190719</td>\n",
       "      <td>4</td>\n",
       "      <td>0</td>\n",
       "    </tr>\n",
       "    <tr>\n",
       "      <th>4</th>\n",
       "      <td>2644010200</td>\n",
       "      <td>강서구</td>\n",
       "      <td>대저2동</td>\n",
       "      <td>102001</td>\n",
       "      <td>강동1지구</td>\n",
       "      <td>20190719</td>\n",
       "      <td>20190720</td>\n",
       "      <td>2300</td>\n",
       "      <td>1200</td>\n",
       "      <td>13</td>\n",
       "      <td>...</td>\n",
       "      <td>2</td>\n",
       "      <td>1.0</td>\n",
       "      <td>1.57</td>\n",
       "      <td>1.189961e-07</td>\n",
       "      <td>24.36</td>\n",
       "      <td>0.006944</td>\n",
       "      <td>6.1</td>\n",
       "      <td>20190719</td>\n",
       "      <td>5</td>\n",
       "      <td>0</td>\n",
       "    </tr>\n",
       "    <tr>\n",
       "      <th>...</th>\n",
       "      <td>...</td>\n",
       "      <td>...</td>\n",
       "      <td>...</td>\n",
       "      <td>...</td>\n",
       "      <td>...</td>\n",
       "      <td>...</td>\n",
       "      <td>...</td>\n",
       "      <td>...</td>\n",
       "      <td>...</td>\n",
       "      <td>...</td>\n",
       "      <td>...</td>\n",
       "      <td>...</td>\n",
       "      <td>...</td>\n",
       "      <td>...</td>\n",
       "      <td>...</td>\n",
       "      <td>...</td>\n",
       "      <td>...</td>\n",
       "      <td>...</td>\n",
       "      <td>...</td>\n",
       "      <td>...</td>\n",
       "      <td>...</td>\n",
       "    </tr>\n",
       "    <tr>\n",
       "      <th>7915</th>\n",
       "      <td>2635010600</td>\n",
       "      <td>해운대구</td>\n",
       "      <td>중동</td>\n",
       "      <td>30587</td>\n",
       "      <td>중동지구</td>\n",
       "      <td>20090716</td>\n",
       "      <td>20090716</td>\n",
       "      <td>700</td>\n",
       "      <td>1100</td>\n",
       "      <td>4</td>\n",
       "      <td>...</td>\n",
       "      <td>15</td>\n",
       "      <td>11.0</td>\n",
       "      <td>4.65</td>\n",
       "      <td>2.102446e-07</td>\n",
       "      <td>27.63</td>\n",
       "      <td>0.016808</td>\n",
       "      <td>0.0</td>\n",
       "      <td>20090716</td>\n",
       "      <td>20</td>\n",
       "      <td>0</td>\n",
       "    </tr>\n",
       "    <tr>\n",
       "      <th>7916</th>\n",
       "      <td>2635010600</td>\n",
       "      <td>해운대구</td>\n",
       "      <td>중동</td>\n",
       "      <td>30587</td>\n",
       "      <td>중동지구</td>\n",
       "      <td>20090716</td>\n",
       "      <td>20090716</td>\n",
       "      <td>700</td>\n",
       "      <td>1100</td>\n",
       "      <td>4</td>\n",
       "      <td>...</td>\n",
       "      <td>15</td>\n",
       "      <td>11.0</td>\n",
       "      <td>4.65</td>\n",
       "      <td>2.102446e-07</td>\n",
       "      <td>27.63</td>\n",
       "      <td>0.016808</td>\n",
       "      <td>0.0</td>\n",
       "      <td>20090716</td>\n",
       "      <td>21</td>\n",
       "      <td>0</td>\n",
       "    </tr>\n",
       "    <tr>\n",
       "      <th>7917</th>\n",
       "      <td>2635010600</td>\n",
       "      <td>해운대구</td>\n",
       "      <td>중동</td>\n",
       "      <td>30587</td>\n",
       "      <td>중동지구</td>\n",
       "      <td>20090716</td>\n",
       "      <td>20090716</td>\n",
       "      <td>700</td>\n",
       "      <td>1100</td>\n",
       "      <td>4</td>\n",
       "      <td>...</td>\n",
       "      <td>15</td>\n",
       "      <td>11.0</td>\n",
       "      <td>4.65</td>\n",
       "      <td>2.102446e-07</td>\n",
       "      <td>27.63</td>\n",
       "      <td>0.016808</td>\n",
       "      <td>0.0</td>\n",
       "      <td>20090716</td>\n",
       "      <td>22</td>\n",
       "      <td>0</td>\n",
       "    </tr>\n",
       "    <tr>\n",
       "      <th>7918</th>\n",
       "      <td>2635010600</td>\n",
       "      <td>해운대구</td>\n",
       "      <td>중동</td>\n",
       "      <td>30587</td>\n",
       "      <td>중동지구</td>\n",
       "      <td>20090716</td>\n",
       "      <td>20090716</td>\n",
       "      <td>700</td>\n",
       "      <td>1100</td>\n",
       "      <td>4</td>\n",
       "      <td>...</td>\n",
       "      <td>15</td>\n",
       "      <td>11.0</td>\n",
       "      <td>4.65</td>\n",
       "      <td>2.102446e-07</td>\n",
       "      <td>27.63</td>\n",
       "      <td>0.016808</td>\n",
       "      <td>0.0</td>\n",
       "      <td>20090716</td>\n",
       "      <td>23</td>\n",
       "      <td>0</td>\n",
       "    </tr>\n",
       "    <tr>\n",
       "      <th>7919</th>\n",
       "      <td>2635010600</td>\n",
       "      <td>해운대구</td>\n",
       "      <td>중동</td>\n",
       "      <td>30587</td>\n",
       "      <td>중동지구</td>\n",
       "      <td>20090716</td>\n",
       "      <td>20090716</td>\n",
       "      <td>700</td>\n",
       "      <td>1100</td>\n",
       "      <td>4</td>\n",
       "      <td>...</td>\n",
       "      <td>15</td>\n",
       "      <td>11.0</td>\n",
       "      <td>4.65</td>\n",
       "      <td>2.102446e-07</td>\n",
       "      <td>27.63</td>\n",
       "      <td>0.016808</td>\n",
       "      <td>0.0</td>\n",
       "      <td>20090716</td>\n",
       "      <td>24</td>\n",
       "      <td>0</td>\n",
       "    </tr>\n",
       "  </tbody>\n",
       "</table>\n",
       "<p>7920 rows × 22 columns</p>\n",
       "</div>"
      ],
      "text/plain": [
       "          ADM_CD  ZONE  Dong     SEQ DISTRICT  F_BEGIN_DE  F_END_DE  \\\n",
       "0     2644010200   강서구  대저2동  102001    강동1지구    20190719  20190720   \n",
       "1     2644010200   강서구  대저2동  102001    강동1지구    20190719  20190720   \n",
       "2     2644010200   강서구  대저2동  102001    강동1지구    20190719  20190720   \n",
       "3     2644010200   강서구  대저2동  102001    강동1지구    20190719  20190720   \n",
       "4     2644010200   강서구  대저2동  102001    강동1지구    20190719  20190720   \n",
       "...          ...   ...   ...     ...      ...         ...       ...   \n",
       "7915  2635010600  해운대구    중동   30587     중동지구    20090716  20090716   \n",
       "7916  2635010600  해운대구    중동   30587     중동지구    20090716  20090716   \n",
       "7917  2635010600  해운대구    중동   30587     중동지구    20090716  20090716   \n",
       "7918  2635010600  해운대구    중동   30587     중동지구    20090716  20090716   \n",
       "7919  2635010600  해운대구    중동   30587     중동지구    20090716  20090716   \n",
       "\n",
       "      F_BEGIN_TM  F_END_TM  FLUD_TIME  ...  SLOPE_H  SLOPE_AVG  HIGH  \\\n",
       "0           2300      1200         13  ...        2        1.0  1.57   \n",
       "1           2300      1200         13  ...        2        1.0  1.57   \n",
       "2           2300      1200         13  ...        2        1.0  1.57   \n",
       "3           2300      1200         13  ...        2        1.0  1.57   \n",
       "4           2300      1200         13  ...        2        1.0  1.57   \n",
       "...          ...       ...        ...  ...      ...        ...   ...   \n",
       "7915         700      1100          4  ...       15       11.0  4.65   \n",
       "7916         700      1100          4  ...       15       11.0  4.65   \n",
       "7917         700      1100          4  ...       15       11.0  4.65   \n",
       "7918         700      1100          4  ...       15       11.0  4.65   \n",
       "7919         700      1100          4  ...       15       11.0  4.65   \n",
       "\n",
       "        PUMP_RATIO  IMP_SUR_RATIO  MANHOLES_RATIO  HOUR_RAINFALL  \\\n",
       "0     1.189961e-07          24.36        0.006944            0.0   \n",
       "1     1.189961e-07          24.36        0.006944            0.0   \n",
       "2     1.189961e-07          24.36        0.006944            0.1   \n",
       "3     1.189961e-07          24.36        0.006944            4.1   \n",
       "4     1.189961e-07          24.36        0.006944            6.1   \n",
       "...            ...            ...             ...            ...   \n",
       "7915  2.102446e-07          27.63        0.016808            0.0   \n",
       "7916  2.102446e-07          27.63        0.016808            0.0   \n",
       "7917  2.102446e-07          27.63        0.016808            0.0   \n",
       "7918  2.102446e-07          27.63        0.016808            0.0   \n",
       "7919  2.102446e-07          27.63        0.016808            0.0   \n",
       "\n",
       "      PRECI_YYMMDDHH  PRECI_HH  DIST  \n",
       "0           20190719         1     0  \n",
       "1           20190719         2     0  \n",
       "2           20190719         3     0  \n",
       "3           20190719         4     0  \n",
       "4           20190719         5     0  \n",
       "...              ...       ...   ...  \n",
       "7915        20090716        20     0  \n",
       "7916        20090716        21     0  \n",
       "7917        20090716        22     0  \n",
       "7918        20090716        23     0  \n",
       "7919        20090716        24     0  \n",
       "\n",
       "[7920 rows x 22 columns]"
      ]
     },
     "execution_count": 32,
     "metadata": {},
     "output_type": "execute_result"
    }
   ],
   "source": [
    "import pandas as pd\n",
    "import numpy as np\n",
    "import matplotlib.pyplot as plt\n",
    "from sklearn import svm\n",
    "from sklearn import datasets\n",
    "from sklearn.pipeline import Pipeline\n",
    "from sklearn.preprocessing import StandardScaler\n",
    "from sklearn.svm import LinearSVC\n",
    "\n",
    "Test1 = pd.read_excel(\"Final_V2/Final_V2_test01.xlsx\")\n",
    "\n",
    "Test1"
   ]
  },
  {
   "cell_type": "code",
   "execution_count": 33,
   "metadata": {},
   "outputs": [],
   "source": [
    "x1 = Test1.drop('DIST', axis = 1)\n",
    "x2 = Test1['DIST']"
   ]
  },
  {
   "cell_type": "code",
   "execution_count": 56,
   "metadata": {},
   "outputs": [],
   "source": [
    "x11 = x1.drop(['ZONE','Dong','SEQ','DISTRICT','DIST'], axis= 1)"
   ]
  },
  {
   "cell_type": "code",
   "execution_count": 101,
   "metadata": {},
   "outputs": [],
   "source": [
    "x_data = x11\n",
    "y_data = x2"
   ]
  },
  {
   "cell_type": "code",
   "execution_count": 109,
   "metadata": {},
   "outputs": [
    {
     "data": {
      "text/plain": [
       "SVC(C=1.0, break_ties=False, cache_size=200, class_weight=None, coef0=0.0,\n",
       "    decision_function_shape='ovr', degree=3, gamma=10, kernel='Polynomial',\n",
       "    max_iter=-1, probability=False, random_state=None, shrinking=True,\n",
       "    tol=0.001, verbose=False)"
      ]
     },
     "execution_count": 109,
     "metadata": {},
     "output_type": "execute_result"
    }
   ],
   "source": [
    "from sklearn.datasets import make_blobs\n",
    "X, y = make_blobs(n_samples=50, centers=2, cluster_std=0.5, random_state=4)\n",
    "# y = 2 * y - 1\n",
    "\n",
    "SVC(kernel='Polynomial', C=1.0, gamma= 10)"
   ]
  },
  {
   "cell_type": "code",
   "execution_count": 78,
   "metadata": {},
   "outputs": [],
   "source": [
    "import numpy as np\n",
    "import pandas as pd\n",
    "import matplotlib.pyplot as plt\n",
    "from sklearn.model_selectionelection import train_test_split"
   ]
  },
  {
   "cell_type": "code",
   "execution_count": 110,
   "metadata": {},
   "outputs": [],
   "source": [
    "labels = ['0', '1']"
   ]
  },
  {
   "cell_type": "code",
   "execution_count": 111,
   "metadata": {},
   "outputs": [],
   "source": [
    "x_train, x_test, y_train, y_test = train_test_split(x_data, y_data, test_size=0.3, \n",
    "                                                    random_state=777, stratify=y_data)"
   ]
  },
  {
   "cell_type": "code",
   "execution_count": 112,
   "metadata": {},
   "outputs": [],
   "source": [
    "model = SVC() "
   ]
  },
  {
   "cell_type": "code",
   "execution_count": 113,
   "metadata": {},
   "outputs": [
    {
     "data": {
      "text/plain": [
       "SVC(C=1.0, break_ties=False, cache_size=200, class_weight=None, coef0=0.0,\n",
       "    decision_function_shape='ovr', degree=3, gamma='scale', kernel='rbf',\n",
       "    max_iter=-1, probability=False, random_state=None, shrinking=True,\n",
       "    tol=0.001, verbose=False)"
      ]
     },
     "execution_count": 113,
     "metadata": {},
     "output_type": "execute_result"
    }
   ],
   "source": [
    "model.fit(x_train, y_train)"
   ]
  },
  {
   "cell_type": "code",
   "execution_count": 114,
   "metadata": {
    "scrolled": true
   },
   "outputs": [
    {
     "name": "stdout",
     "output_type": "stream",
     "text": [
      "0.5501443001443002\n",
      "0.5496632996632996\n"
     ]
    }
   ],
   "source": [
    "print(model.score(x_train, y_train)) #\n",
    "\n",
    "print(model.score(x_test, y_test)) #1.0"
   ]
  },
  {
   "cell_type": "code",
   "execution_count": 115,
   "metadata": {},
   "outputs": [
    {
     "name": "stdout",
     "output_type": "stream",
     "text": [
      "[1 1 1 ... 1 1 1]\n"
     ]
    }
   ],
   "source": [
    "y_predict = model.predict(x_test)\n",
    "print(y_predict)"
   ]
  },
  {
   "cell_type": "code",
   "execution_count": null,
   "metadata": {},
   "outputs": [],
   "source": []
  },
  {
   "cell_type": "code",
   "execution_count": 34,
   "metadata": {},
   "outputs": [],
   "source": [
    "x1 = Test1.drop(['ZONE','Dong','SEQ','DISTRICT','DIST'], axis= 1)\n",
    "x2 = Test1['DIST']"
   ]
  },
  {
   "cell_type": "code",
   "execution_count": 35,
   "metadata": {},
   "outputs": [],
   "source": [
    "labels = ['0', '1']"
   ]
  },
  {
   "cell_type": "code",
   "execution_count": 36,
   "metadata": {},
   "outputs": [
    {
     "name": "stdout",
     "output_type": "stream",
     "text": [
      "5544 2376 5544 2376\n"
     ]
    }
   ],
   "source": [
    "from sklearn.model_selection import train_test_split\n",
    "\n",
    "X_train, X_test, y_train, y_test = train_test_split(x1, x2, test_size=0.3, random_state=100)\n",
    "print(len(X_train), len(X_test),len(y_train),len(y_test))"
   ]
  },
  {
   "cell_type": "code",
   "execution_count": 37,
   "metadata": {},
   "outputs": [],
   "source": [
    "scaler = StandardScaler()\n",
    "scaler.fit(X_train)\n",
    "\n",
    "X_train = scaler.transform(X_train)\n",
    "X_test = scaler.transform(X_test) # 정규화 라이브러리"
   ]
  },
  {
   "cell_type": "code",
   "execution_count": 38,
   "metadata": {},
   "outputs": [
    {
     "data": {
      "text/plain": [
       "SVC(C=1.0, break_ties=False, cache_size=200, class_weight=None, coef0=0.0,\n",
       "    decision_function_shape='ovr', degree=3, gamma='scale', kernel='rbf',\n",
       "    max_iter=-1, probability=False, random_state=None, shrinking=True,\n",
       "    tol=0.001, verbose=False)"
      ]
     },
     "execution_count": 38,
     "metadata": {},
     "output_type": "execute_result"
    }
   ],
   "source": [
    "model = SVC()\n",
    "model.fit(X_train, y_train)"
   ]
  },
  {
   "cell_type": "code",
   "execution_count": 39,
   "metadata": {},
   "outputs": [
    {
     "name": "stdout",
     "output_type": "stream",
     "text": [
      "[1 0 0 ... 0 0 0]\n"
     ]
    }
   ],
   "source": [
    "y_predict = model.predict(X_test)\n",
    "print(y_predict)"
   ]
  },
  {
   "cell_type": "code",
   "execution_count": 40,
   "metadata": {},
   "outputs": [
    {
     "name": "stdout",
     "output_type": "stream",
     "text": [
      "0.9267676767676768\n",
      "0.9368686868686869\n"
     ]
    }
   ],
   "source": [
    "print(model.score(X_train, y_train)) #\n",
    "\n",
    "print(model.score(X_test, y_test))"
   ]
  },
  {
   "cell_type": "code",
   "execution_count": 41,
   "metadata": {},
   "outputs": [
    {
     "name": "stdout",
     "output_type": "stream",
     "text": [
      "[[2001   32]\n",
      " [ 118  225]]\n",
      "              precision    recall  f1-score   support\n",
      "\n",
      "           0       0.94      0.98      0.96      2033\n",
      "           1       0.88      0.66      0.75       343\n",
      "\n",
      "    accuracy                           0.94      2376\n",
      "   macro avg       0.91      0.82      0.86      2376\n",
      "weighted avg       0.93      0.94      0.93      2376\n",
      "\n"
     ]
    }
   ],
   "source": [
    "from sklearn.metrics import confusion_matrix, classification_report\n",
    "\n",
    "conf_matrix = confusion_matrix(y_test, y_predict)\n",
    "print(conf_matrix)\n",
    "\n",
    "report = classification_report(y_test, y_predict)\n",
    "print(report)"
   ]
  },
  {
   "cell_type": "code",
   "execution_count": 26,
   "metadata": {},
   "outputs": [
    {
     "ename": "ValueError",
     "evalue": "'Polynomial' is not in list",
     "output_type": "error",
     "traceback": [
      "\u001b[1;31m---------------------------------------------------------------------------\u001b[0m",
      "\u001b[1;31mValueError\u001b[0m                                Traceback (most recent call last)",
      "\u001b[1;32m<ipython-input-26-b93d1ce478c1>\u001b[0m in \u001b[0;36m<module>\u001b[1;34m\u001b[0m\n\u001b[0;32m      4\u001b[0m \u001b[0mmodel2\u001b[0m \u001b[1;33m=\u001b[0m \u001b[0mSVC\u001b[0m\u001b[1;33m(\u001b[0m\u001b[0mkernel\u001b[0m\u001b[1;33m=\u001b[0m\u001b[1;34m'Polynomial'\u001b[0m\u001b[1;33m,\u001b[0m \u001b[0mC\u001b[0m\u001b[1;33m=\u001b[0m\u001b[1;36m1.0\u001b[0m \u001b[1;33m)\u001b[0m\u001b[1;33m\u001b[0m\u001b[1;33m\u001b[0m\u001b[0m\n\u001b[0;32m      5\u001b[0m \u001b[1;33m\u001b[0m\u001b[0m\n\u001b[1;32m----> 6\u001b[1;33m \u001b[0mmodel2\u001b[0m\u001b[1;33m.\u001b[0m\u001b[0mfit\u001b[0m\u001b[1;33m(\u001b[0m\u001b[0mX_train\u001b[0m\u001b[1;33m,\u001b[0m \u001b[0my_train\u001b[0m\u001b[1;33m)\u001b[0m\u001b[1;33m\u001b[0m\u001b[1;33m\u001b[0m\u001b[0m\n\u001b[0m",
      "\u001b[1;32mC:\\ana\\lib\\site-packages\\sklearn\\svm\\_base.py\u001b[0m in \u001b[0;36mfit\u001b[1;34m(self, X, y, sample_weight)\u001b[0m\n\u001b[0;32m    197\u001b[0m \u001b[1;33m\u001b[0m\u001b[0m\n\u001b[0;32m    198\u001b[0m         \u001b[0mseed\u001b[0m \u001b[1;33m=\u001b[0m \u001b[0mrnd\u001b[0m\u001b[1;33m.\u001b[0m\u001b[0mrandint\u001b[0m\u001b[1;33m(\u001b[0m\u001b[0mnp\u001b[0m\u001b[1;33m.\u001b[0m\u001b[0miinfo\u001b[0m\u001b[1;33m(\u001b[0m\u001b[1;34m'i'\u001b[0m\u001b[1;33m)\u001b[0m\u001b[1;33m.\u001b[0m\u001b[0mmax\u001b[0m\u001b[1;33m)\u001b[0m\u001b[1;33m\u001b[0m\u001b[1;33m\u001b[0m\u001b[0m\n\u001b[1;32m--> 199\u001b[1;33m         \u001b[0mfit\u001b[0m\u001b[1;33m(\u001b[0m\u001b[0mX\u001b[0m\u001b[1;33m,\u001b[0m \u001b[0my\u001b[0m\u001b[1;33m,\u001b[0m \u001b[0msample_weight\u001b[0m\u001b[1;33m,\u001b[0m \u001b[0msolver_type\u001b[0m\u001b[1;33m,\u001b[0m \u001b[0mkernel\u001b[0m\u001b[1;33m,\u001b[0m \u001b[0mrandom_seed\u001b[0m\u001b[1;33m=\u001b[0m\u001b[0mseed\u001b[0m\u001b[1;33m)\u001b[0m\u001b[1;33m\u001b[0m\u001b[1;33m\u001b[0m\u001b[0m\n\u001b[0m\u001b[0;32m    200\u001b[0m         \u001b[1;31m# see comment on the other call to np.iinfo in this file\u001b[0m\u001b[1;33m\u001b[0m\u001b[1;33m\u001b[0m\u001b[1;33m\u001b[0m\u001b[0m\n\u001b[0;32m    201\u001b[0m \u001b[1;33m\u001b[0m\u001b[0m\n",
      "\u001b[1;32mC:\\ana\\lib\\site-packages\\sklearn\\svm\\_base.py\u001b[0m in \u001b[0;36m_dense_fit\u001b[1;34m(self, X, y, sample_weight, solver_type, kernel, random_seed)\u001b[0m\n\u001b[0;32m    256\u001b[0m                 \u001b[0mcache_size\u001b[0m\u001b[1;33m=\u001b[0m\u001b[0mself\u001b[0m\u001b[1;33m.\u001b[0m\u001b[0mcache_size\u001b[0m\u001b[1;33m,\u001b[0m \u001b[0mcoef0\u001b[0m\u001b[1;33m=\u001b[0m\u001b[0mself\u001b[0m\u001b[1;33m.\u001b[0m\u001b[0mcoef0\u001b[0m\u001b[1;33m,\u001b[0m\u001b[1;33m\u001b[0m\u001b[1;33m\u001b[0m\u001b[0m\n\u001b[0;32m    257\u001b[0m                 \u001b[0mgamma\u001b[0m\u001b[1;33m=\u001b[0m\u001b[0mself\u001b[0m\u001b[1;33m.\u001b[0m\u001b[0m_gamma\u001b[0m\u001b[1;33m,\u001b[0m \u001b[0mepsilon\u001b[0m\u001b[1;33m=\u001b[0m\u001b[0mself\u001b[0m\u001b[1;33m.\u001b[0m\u001b[0mepsilon\u001b[0m\u001b[1;33m,\u001b[0m\u001b[1;33m\u001b[0m\u001b[1;33m\u001b[0m\u001b[0m\n\u001b[1;32m--> 258\u001b[1;33m                 max_iter=self.max_iter, random_seed=random_seed)\n\u001b[0m\u001b[0;32m    259\u001b[0m \u001b[1;33m\u001b[0m\u001b[0m\n\u001b[0;32m    260\u001b[0m         \u001b[0mself\u001b[0m\u001b[1;33m.\u001b[0m\u001b[0m_warn_from_fit_status\u001b[0m\u001b[1;33m(\u001b[0m\u001b[1;33m)\u001b[0m\u001b[1;33m\u001b[0m\u001b[1;33m\u001b[0m\u001b[0m\n",
      "\u001b[1;32msklearn\\svm\\_libsvm.pyx\u001b[0m in \u001b[0;36msklearn.svm._libsvm.fit\u001b[1;34m()\u001b[0m\n",
      "\u001b[1;31mValueError\u001b[0m: 'Polynomial' is not in list"
     ]
    }
   ],
   "source": [
    "poly = PolynomialFeatures(2)\n",
    "poly.fit_transform(X_train)\n",
    "\n",
    "model2 = SVC(kernel='Polynomial', C=1.0 )\n",
    "\n",
    "model2.fit(X_train, y_train)"
   ]
  },
  {
   "cell_type": "code",
   "execution_count": 31,
   "metadata": {},
   "outputs": [
    {
     "data": {
      "image/png": "[encoded data removed]",
      "text/plain": [
       "<Figure size 432x288 with 1 Axes>"
      ]
     },
     "metadata": {
      "needs_background": "light"
     },
     "output_type": "display_data"
    }
   ],
   "source": [
    "k_list = range(1,101)\n",
    "accuracies = []\n",
    "\n",
    "for k in k_list:\n",
    "    model = SVC()\n",
    "    model.fit(X_train, y_train)\n",
    "    accuracies.append(model.score(X_test, y_test))\n",
    "\n",
    "plt.plot(k_list, accuracies)\n",
    "plt.xlabel(\"k\")\n",
    "plt.ylabel(\"Validation Accuracy\")\n",
    "plt.title(\"FLUD Classifier Accuracy\")\n",
    "plt.show()"
   ]
  }
 ],
 "metadata": {
  "kernelspec": {
   "display_name": "Python 3",
   "language": "python",
   "name": "python3"
  },
  "language_info": {
   "codemirror_mode": {
    "name": "ipython",
    "version": 3
   },
   "file_extension": ".py",
   "mimetype": "text/x-python",
   "name": "python",
   "nbconvert_exporter": "python",
   "pygments_lexer": "ipython3",
   "version": "3.7.6"
  }
 },
 "nbformat": 4,
 "nbformat_minor": 4
}
