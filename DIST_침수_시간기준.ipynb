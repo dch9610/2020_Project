{
 "cells": [
  {
   "cell_type": "code",
   "execution_count": 1,
   "metadata": {},
   "outputs": [],
   "source": [
    "import pandas as pd"
   ]
  },
  {
   "cell_type": "markdown",
   "metadata": {},
   "source": [
    "# Final_test 저장"
   ]
  },
  {
   "cell_type": "code",
   "execution_count": 2,
   "metadata": {},
   "outputs": [],
   "source": [
    "F = pd.read_excel(\"./정제데이터/Busan_main/F_Final_PIH_V1.xlsx\")\n",
    "#UF = pd.read_excel(\"./정제데이터/Busan_main/Unf_Final_test1.xlsx\")\n",
    "UF = pd.read_excel(\"./정제데이터/Busan_main/Unf_Final_PIH_V1.xlsx\")\n",
    "R = pd.read_csv(\"./정제데이터/Busan_main/raw/busan_rain_data.csv\")"
   ]
  },
  {
   "cell_type": "code",
   "execution_count": 3,
   "metadata": {},
   "outputs": [],
   "source": [
    "df = pd.merge(UF,R,how=\"inner\",on=\"SEQ\")\n",
    "df\n",
    "df.to_excel(\"./정제데이터/Busan_main/Unf_Final_test1.xlsx\")"
   ]
  },
  {
   "cell_type": "code",
   "execution_count": null,
   "metadata": {},
   "outputs": [],
   "source": []
  },
  {
   "cell_type": "markdown",
   "metadata": {},
   "source": [
    "# F_Final_test 전처리"
   ]
  },
  {
   "cell_type": "code",
   "execution_count": 4,
   "metadata": {},
   "outputs": [],
   "source": [
    "Ft = pd.read_excel(\"./정제데이터/Busan_main/F_Final_test1.xlsx\")"
   ]
  },
  {
   "cell_type": "code",
   "execution_count": 5,
   "metadata": {},
   "outputs": [],
   "source": [
    "Ft2=Ft.drop([\"ADM_CD\",\"ZONE\",\"Dong\",\"DISTRICT\"],axis=1).copy()"
   ]
  },
  {
   "cell_type": "code",
   "execution_count": 6,
   "metadata": {},
   "outputs": [
    {
     "name": "stdout",
     "output_type": "stream",
     "text": [
      "<class 'pandas.core.frame.DataFrame'>\n",
      "RangeIndex: 3960 entries, 0 to 3959\n",
      "Data columns (total 17 columns):\n",
      " #   Column          Non-Null Count  Dtype  \n",
      "---  ------          --------------  -----  \n",
      " 0   SEQ             3960 non-null   int64  \n",
      " 1   F_BEGIN_DE      3960 non-null   int64  \n",
      " 2   F_END_DE        3960 non-null   int64  \n",
      " 3   F_BEGIN_TM      3960 non-null   int64  \n",
      " 4   F_END_TM        3960 non-null   int64  \n",
      " 5   FLUD_TIME       3960 non-null   int64  \n",
      " 6   FLUD_DPWT       3960 non-null   float64\n",
      " 7   SLOPE_L         3960 non-null   float64\n",
      " 8   SLOPE_H         3960 non-null   int64  \n",
      " 9   SLOPE_AVG       3960 non-null   float64\n",
      " 10  HIGH            3960 non-null   float64\n",
      " 11  PUMP_RATIO      3960 non-null   float64\n",
      " 12  IMP_SUR_RATIO   3960 non-null   float64\n",
      " 13  MANHOLES_RATIO  3960 non-null   float64\n",
      " 14  HOUR_RAINFALL   3960 non-null   float64\n",
      " 15  PRECI_YYMMDDHH  3960 non-null   int64  \n",
      " 16  PRECI_HH        3960 non-null   int64  \n",
      "dtypes: float64(8), int64(9)\n",
      "memory usage: 526.1 KB\n"
     ]
    }
   ],
   "source": [
    "Ft2.info()"
   ]
  },
  {
   "cell_type": "markdown",
   "metadata": {},
   "source": [
    "## 전체 Dist = 0 으로 만들기"
   ]
  },
  {
   "cell_type": "code",
   "execution_count": 7,
   "metadata": {},
   "outputs": [
    {
     "data": {
      "text/html": [
       "<div>\n",
       "<style scoped>\n",
       "    .dataframe tbody tr th:only-of-type {\n",
       "        vertical-align: middle;\n",
       "    }\n",
       "\n",
       "    .dataframe tbody tr th {\n",
       "        vertical-align: top;\n",
       "    }\n",
       "\n",
       "    .dataframe thead th {\n",
       "        text-align: right;\n",
       "    }\n",
       "</style>\n",
       "<table border=\"1\" class=\"dataframe\">\n",
       "  <thead>\n",
       "    <tr style=\"text-align: right;\">\n",
       "      <th></th>\n",
       "      <th>SEQ</th>\n",
       "      <th>F_BEGIN_DE</th>\n",
       "      <th>F_END_DE</th>\n",
       "      <th>F_BEGIN_TM</th>\n",
       "      <th>F_END_TM</th>\n",
       "      <th>FLUD_TIME</th>\n",
       "      <th>FLUD_DPWT</th>\n",
       "      <th>SLOPE_L</th>\n",
       "      <th>SLOPE_H</th>\n",
       "      <th>SLOPE_AVG</th>\n",
       "      <th>HIGH</th>\n",
       "      <th>PUMP_RATIO</th>\n",
       "      <th>IMP_SUR_RATIO</th>\n",
       "      <th>MANHOLES_RATIO</th>\n",
       "      <th>HOUR_RAINFALL</th>\n",
       "      <th>PRECI_YYMMDDHH</th>\n",
       "      <th>PRECI_HH</th>\n",
       "      <th>DIST</th>\n",
       "    </tr>\n",
       "  </thead>\n",
       "  <tbody>\n",
       "    <tr>\n",
       "      <th>0</th>\n",
       "      <td>102001</td>\n",
       "      <td>20190719</td>\n",
       "      <td>20190720</td>\n",
       "      <td>2300</td>\n",
       "      <td>1200</td>\n",
       "      <td>13</td>\n",
       "      <td>0.82</td>\n",
       "      <td>0.0</td>\n",
       "      <td>2</td>\n",
       "      <td>1.0</td>\n",
       "      <td>1.57</td>\n",
       "      <td>1.189961e-07</td>\n",
       "      <td>24.36</td>\n",
       "      <td>0.006944</td>\n",
       "      <td>0.0</td>\n",
       "      <td>20190719</td>\n",
       "      <td>1</td>\n",
       "      <td>0</td>\n",
       "    </tr>\n",
       "    <tr>\n",
       "      <th>1</th>\n",
       "      <td>102001</td>\n",
       "      <td>20190719</td>\n",
       "      <td>20190720</td>\n",
       "      <td>2300</td>\n",
       "      <td>1200</td>\n",
       "      <td>13</td>\n",
       "      <td>0.82</td>\n",
       "      <td>0.0</td>\n",
       "      <td>2</td>\n",
       "      <td>1.0</td>\n",
       "      <td>1.57</td>\n",
       "      <td>1.189961e-07</td>\n",
       "      <td>24.36</td>\n",
       "      <td>0.006944</td>\n",
       "      <td>0.0</td>\n",
       "      <td>20190719</td>\n",
       "      <td>2</td>\n",
       "      <td>0</td>\n",
       "    </tr>\n",
       "    <tr>\n",
       "      <th>2</th>\n",
       "      <td>102001</td>\n",
       "      <td>20190719</td>\n",
       "      <td>20190720</td>\n",
       "      <td>2300</td>\n",
       "      <td>1200</td>\n",
       "      <td>13</td>\n",
       "      <td>0.82</td>\n",
       "      <td>0.0</td>\n",
       "      <td>2</td>\n",
       "      <td>1.0</td>\n",
       "      <td>1.57</td>\n",
       "      <td>1.189961e-07</td>\n",
       "      <td>24.36</td>\n",
       "      <td>0.006944</td>\n",
       "      <td>0.1</td>\n",
       "      <td>20190719</td>\n",
       "      <td>3</td>\n",
       "      <td>0</td>\n",
       "    </tr>\n",
       "    <tr>\n",
       "      <th>3</th>\n",
       "      <td>102001</td>\n",
       "      <td>20190719</td>\n",
       "      <td>20190720</td>\n",
       "      <td>2300</td>\n",
       "      <td>1200</td>\n",
       "      <td>13</td>\n",
       "      <td>0.82</td>\n",
       "      <td>0.0</td>\n",
       "      <td>2</td>\n",
       "      <td>1.0</td>\n",
       "      <td>1.57</td>\n",
       "      <td>1.189961e-07</td>\n",
       "      <td>24.36</td>\n",
       "      <td>0.006944</td>\n",
       "      <td>4.1</td>\n",
       "      <td>20190719</td>\n",
       "      <td>4</td>\n",
       "      <td>0</td>\n",
       "    </tr>\n",
       "    <tr>\n",
       "      <th>4</th>\n",
       "      <td>102001</td>\n",
       "      <td>20190719</td>\n",
       "      <td>20190720</td>\n",
       "      <td>2300</td>\n",
       "      <td>1200</td>\n",
       "      <td>13</td>\n",
       "      <td>0.82</td>\n",
       "      <td>0.0</td>\n",
       "      <td>2</td>\n",
       "      <td>1.0</td>\n",
       "      <td>1.57</td>\n",
       "      <td>1.189961e-07</td>\n",
       "      <td>24.36</td>\n",
       "      <td>0.006944</td>\n",
       "      <td>6.1</td>\n",
       "      <td>20190719</td>\n",
       "      <td>5</td>\n",
       "      <td>0</td>\n",
       "    </tr>\n",
       "  </tbody>\n",
       "</table>\n",
       "</div>"
      ],
      "text/plain": [
       "      SEQ  F_BEGIN_DE  F_END_DE  F_BEGIN_TM  F_END_TM  FLUD_TIME  FLUD_DPWT  \\\n",
       "0  102001    20190719  20190720        2300      1200         13       0.82   \n",
       "1  102001    20190719  20190720        2300      1200         13       0.82   \n",
       "2  102001    20190719  20190720        2300      1200         13       0.82   \n",
       "3  102001    20190719  20190720        2300      1200         13       0.82   \n",
       "4  102001    20190719  20190720        2300      1200         13       0.82   \n",
       "\n",
       "   SLOPE_L  SLOPE_H  SLOPE_AVG  HIGH    PUMP_RATIO  IMP_SUR_RATIO  \\\n",
       "0      0.0        2        1.0  1.57  1.189961e-07          24.36   \n",
       "1      0.0        2        1.0  1.57  1.189961e-07          24.36   \n",
       "2      0.0        2        1.0  1.57  1.189961e-07          24.36   \n",
       "3      0.0        2        1.0  1.57  1.189961e-07          24.36   \n",
       "4      0.0        2        1.0  1.57  1.189961e-07          24.36   \n",
       "\n",
       "   MANHOLES_RATIO  HOUR_RAINFALL  PRECI_YYMMDDHH  PRECI_HH  DIST  \n",
       "0        0.006944            0.0        20190719         1     0  \n",
       "1        0.006944            0.0        20190719         2     0  \n",
       "2        0.006944            0.1        20190719         3     0  \n",
       "3        0.006944            4.1        20190719         4     0  \n",
       "4        0.006944            6.1        20190719         5     0  "
      ]
     },
     "execution_count": 7,
     "metadata": {},
     "output_type": "execute_result"
    }
   ],
   "source": [
    "import math as m\n",
    "Ft2[\"DIST\"]=0\n",
    "Ft2.head()"
   ]
  },
  {
   "cell_type": "code",
   "execution_count": null,
   "metadata": {},
   "outputs": [],
   "source": []
  },
  {
   "cell_type": "code",
   "execution_count": null,
   "metadata": {},
   "outputs": [],
   "source": []
  },
  {
   "cell_type": "markdown",
   "metadata": {},
   "source": []
  },
  {
   "cell_type": "markdown",
   "metadata": {},
   "source": [
    "Ft2[\"SEQ\"].unique()[74]"
   ]
  },
  {
   "cell_type": "markdown",
   "metadata": {},
   "source": [
    "## 침수시작시간의 DIST = 1 로 만들기"
   ]
  },
  {
   "cell_type": "code",
   "execution_count": null,
   "metadata": {},
   "outputs": [],
   "source": [
    "# 시\n",
    "Ft2.loc[(Ft2[\"F_BEGIN_DE\"]==Ft2[\"PRECI_YYMMDDHH\"])&(Ft2[\"PRECI_HH\"]==Ft2[\"F_BEGIN_TM\"]/100),\"DIST\"]=1\n",
    "#Ft2.loc[(Ft2[Ft2[\"SEQ\"]==Ft2[\"SEQ\"].unique()[1]][(Ft2[\"F_BEGIN_DE\"]==Ft2[\"PRECI_YYMMDDHH\"])]"
   ]
  },
  {
   "cell_type": "code",
   "execution_count": null,
   "metadata": {},
   "outputs": [],
   "source": [
    "idx = Ft2[Ft2[\"DIST\"]==1].index\n",
    "idx"
   ]
  },
  {
   "cell_type": "markdown",
   "metadata": {},
   "source": [
    "## 침수시작 전후 2개씩 (총 사건당 5개를 1로 변경)"
   ]
  },
  {
   "cell_type": "code",
   "execution_count": null,
   "metadata": {},
   "outputs": [],
   "source": [
    "#Ft2.loc[20:25,\"DIST\"]=1"
   ]
  },
  {
   "cell_type": "code",
   "execution_count": null,
   "metadata": {},
   "outputs": [],
   "source": [
    "for i in idx:\n",
    "    Ft2.loc[i-2:i+3:,\"DIST\"]=1"
   ]
  },
  {
   "cell_type": "code",
   "execution_count": null,
   "metadata": {},
   "outputs": [],
   "source": [
    "Ft2.loc[19:26,\"DIST\"]"
   ]
  },
  {
   "cell_type": "code",
   "execution_count": null,
   "metadata": {},
   "outputs": [],
   "source": [
    "import matplotlib.pyplot as plt \n",
    "import seaborn as sns    \n",
    "%matplotlib inline"
   ]
  },
  {
   "cell_type": "code",
   "execution_count": null,
   "metadata": {},
   "outputs": [],
   "source": [
    "plt.figure(figsize=(10,10))\n",
    "sns.heatmap(data = Ft2.corr(), annot=True, \n",
    "fmt = '.2f', linewidths=.5, cmap='Blues')\n",
    "plt.show()"
   ]
  },
  {
   "cell_type": "code",
   "execution_count": null,
   "metadata": {},
   "outputs": [],
   "source": []
  },
  {
   "cell_type": "code",
   "execution_count": null,
   "metadata": {},
   "outputs": [],
   "source": []
  },
  {
   "cell_type": "code",
   "execution_count": null,
   "metadata": {},
   "outputs": [],
   "source": [
    "def min_max_normalize(lst):\n",
    "    normalized = []\n",
    "    \n",
    "    for value in lst:\n",
    "        normalized_num = (value - min(lst)) / (max(lst) - min(lst))\n",
    "        normalized.append(normalized_num)\n",
    "    \n",
    "    return normalized\n",
    "\n",
    "for x in range(len(df_data.columns)):\n",
    "        df_data[df[df_data.columns[x]]] = min_max_normalize(df[df_data.columns[x]])\n",
    "df_data.describe()"
   ]
  }
 ],
 "metadata": {
  "kernelspec": {
   "display_name": "Python 3",
   "language": "python",
   "name": "python3"
  },
  "language_info": {
   "codemirror_mode": {
    "name": "ipython",
    "version": 3
   },
   "file_extension": ".py",
   "mimetype": "text/x-python",
   "name": "python",
   "nbconvert_exporter": "python",
   "pygments_lexer": "ipython3",
   "version": "3.7.6"
  }
 },
 "nbformat": 4,
 "nbformat_minor": 4
}
