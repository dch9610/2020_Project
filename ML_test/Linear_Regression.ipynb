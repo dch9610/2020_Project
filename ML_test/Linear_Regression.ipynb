{
 "cells": [
  {
   "cell_type": "code",
   "execution_count": 1,
   "metadata": {},
   "outputs": [],
   "source": [
    "import pandas as pd"
   ]
  },
  {
   "cell_type": "code",
   "execution_count": 73,
   "metadata": {},
   "outputs": [
    {
     "data": {
      "text/html": [
       "<div>\n",
       "<style scoped>\n",
       "    .dataframe tbody tr th:only-of-type {\n",
       "        vertical-align: middle;\n",
       "    }\n",
       "\n",
       "    .dataframe tbody tr th {\n",
       "        vertical-align: top;\n",
       "    }\n",
       "\n",
       "    .dataframe thead th {\n",
       "        text-align: right;\n",
       "    }\n",
       "</style>\n",
       "<table border=\"1\" class=\"dataframe\">\n",
       "  <thead>\n",
       "    <tr style=\"text-align: right;\">\n",
       "      <th></th>\n",
       "      <th>SEQ</th>\n",
       "      <th>F_BEGIN_DE</th>\n",
       "      <th>F_END_DE</th>\n",
       "      <th>F_BEGIN_TM</th>\n",
       "      <th>F_END_TM</th>\n",
       "      <th>FLUD_TIME</th>\n",
       "      <th>FLUD_DPWT</th>\n",
       "      <th>SLOPE_L</th>\n",
       "      <th>SLOPE_H</th>\n",
       "      <th>SLOPE_AVG</th>\n",
       "      <th>HIGH</th>\n",
       "      <th>PUMP_RATIO</th>\n",
       "      <th>IMP_SUR_RATIO</th>\n",
       "      <th>MANHOLES_RATIO</th>\n",
       "      <th>HOUR_RAINFALL</th>\n",
       "      <th>PRECI_YYMMDDHH</th>\n",
       "      <th>PRECI_HH</th>\n",
       "      <th>DIST</th>\n",
       "    </tr>\n",
       "  </thead>\n",
       "  <tbody>\n",
       "    <tr>\n",
       "      <th>0</th>\n",
       "      <td>30581</td>\n",
       "      <td>20090716</td>\n",
       "      <td>20090716</td>\n",
       "      <td>800</td>\n",
       "      <td>1200</td>\n",
       "      <td>4</td>\n",
       "      <td>0.433</td>\n",
       "      <td>0.0</td>\n",
       "      <td>2</td>\n",
       "      <td>1.0</td>\n",
       "      <td>1.98</td>\n",
       "      <td>1.485884e-07</td>\n",
       "      <td>38.20</td>\n",
       "      <td>0.017684</td>\n",
       "      <td>39.0</td>\n",
       "      <td>20090716</td>\n",
       "      <td>7</td>\n",
       "      <td>1</td>\n",
       "    </tr>\n",
       "    <tr>\n",
       "      <th>1</th>\n",
       "      <td>30581</td>\n",
       "      <td>20090716</td>\n",
       "      <td>20090716</td>\n",
       "      <td>800</td>\n",
       "      <td>1200</td>\n",
       "      <td>4</td>\n",
       "      <td>0.433</td>\n",
       "      <td>0.0</td>\n",
       "      <td>2</td>\n",
       "      <td>1.0</td>\n",
       "      <td>1.98</td>\n",
       "      <td>1.485884e-07</td>\n",
       "      <td>38.20</td>\n",
       "      <td>0.017684</td>\n",
       "      <td>78.0</td>\n",
       "      <td>20090716</td>\n",
       "      <td>8</td>\n",
       "      <td>1</td>\n",
       "    </tr>\n",
       "    <tr>\n",
       "      <th>2</th>\n",
       "      <td>30581</td>\n",
       "      <td>20090716</td>\n",
       "      <td>20090716</td>\n",
       "      <td>800</td>\n",
       "      <td>1200</td>\n",
       "      <td>4</td>\n",
       "      <td>0.433</td>\n",
       "      <td>0.0</td>\n",
       "      <td>2</td>\n",
       "      <td>1.0</td>\n",
       "      <td>1.98</td>\n",
       "      <td>1.485884e-07</td>\n",
       "      <td>38.20</td>\n",
       "      <td>0.017684</td>\n",
       "      <td>54.5</td>\n",
       "      <td>20090716</td>\n",
       "      <td>9</td>\n",
       "      <td>1</td>\n",
       "    </tr>\n",
       "    <tr>\n",
       "      <th>3</th>\n",
       "      <td>30581</td>\n",
       "      <td>20090716</td>\n",
       "      <td>20090716</td>\n",
       "      <td>800</td>\n",
       "      <td>1200</td>\n",
       "      <td>4</td>\n",
       "      <td>0.433</td>\n",
       "      <td>0.0</td>\n",
       "      <td>2</td>\n",
       "      <td>1.0</td>\n",
       "      <td>1.98</td>\n",
       "      <td>1.485884e-07</td>\n",
       "      <td>38.20</td>\n",
       "      <td>0.017684</td>\n",
       "      <td>46.0</td>\n",
       "      <td>20090716</td>\n",
       "      <td>10</td>\n",
       "      <td>1</td>\n",
       "    </tr>\n",
       "    <tr>\n",
       "      <th>4</th>\n",
       "      <td>30581</td>\n",
       "      <td>20090716</td>\n",
       "      <td>20090716</td>\n",
       "      <td>800</td>\n",
       "      <td>1200</td>\n",
       "      <td>4</td>\n",
       "      <td>0.433</td>\n",
       "      <td>0.0</td>\n",
       "      <td>2</td>\n",
       "      <td>1.0</td>\n",
       "      <td>1.98</td>\n",
       "      <td>1.485884e-07</td>\n",
       "      <td>38.20</td>\n",
       "      <td>0.017684</td>\n",
       "      <td>15.5</td>\n",
       "      <td>20090716</td>\n",
       "      <td>11</td>\n",
       "      <td>0</td>\n",
       "    </tr>\n",
       "    <tr>\n",
       "      <th>...</th>\n",
       "      <td>...</td>\n",
       "      <td>...</td>\n",
       "      <td>...</td>\n",
       "      <td>...</td>\n",
       "      <td>...</td>\n",
       "      <td>...</td>\n",
       "      <td>...</td>\n",
       "      <td>...</td>\n",
       "      <td>...</td>\n",
       "      <td>...</td>\n",
       "      <td>...</td>\n",
       "      <td>...</td>\n",
       "      <td>...</td>\n",
       "      <td>...</td>\n",
       "      <td>...</td>\n",
       "      <td>...</td>\n",
       "      <td>...</td>\n",
       "      <td>...</td>\n",
       "    </tr>\n",
       "    <tr>\n",
       "      <th>1335</th>\n",
       "      <td>102001</td>\n",
       "      <td>20190719</td>\n",
       "      <td>20190720</td>\n",
       "      <td>2300</td>\n",
       "      <td>1200</td>\n",
       "      <td>13</td>\n",
       "      <td>0.000</td>\n",
       "      <td>0.0</td>\n",
       "      <td>2</td>\n",
       "      <td>1.0</td>\n",
       "      <td>1.57</td>\n",
       "      <td>1.189961e-07</td>\n",
       "      <td>24.36</td>\n",
       "      <td>0.006944</td>\n",
       "      <td>4.8</td>\n",
       "      <td>20190720</td>\n",
       "      <td>7</td>\n",
       "      <td>0</td>\n",
       "    </tr>\n",
       "    <tr>\n",
       "      <th>1336</th>\n",
       "      <td>102001</td>\n",
       "      <td>20190719</td>\n",
       "      <td>20190720</td>\n",
       "      <td>2300</td>\n",
       "      <td>1200</td>\n",
       "      <td>13</td>\n",
       "      <td>0.000</td>\n",
       "      <td>0.0</td>\n",
       "      <td>2</td>\n",
       "      <td>1.0</td>\n",
       "      <td>1.57</td>\n",
       "      <td>1.189961e-07</td>\n",
       "      <td>24.36</td>\n",
       "      <td>0.006944</td>\n",
       "      <td>9.6</td>\n",
       "      <td>20190720</td>\n",
       "      <td>8</td>\n",
       "      <td>0</td>\n",
       "    </tr>\n",
       "    <tr>\n",
       "      <th>1337</th>\n",
       "      <td>102001</td>\n",
       "      <td>20190719</td>\n",
       "      <td>20190720</td>\n",
       "      <td>2300</td>\n",
       "      <td>1200</td>\n",
       "      <td>13</td>\n",
       "      <td>0.000</td>\n",
       "      <td>0.0</td>\n",
       "      <td>2</td>\n",
       "      <td>1.0</td>\n",
       "      <td>1.57</td>\n",
       "      <td>1.189961e-07</td>\n",
       "      <td>24.36</td>\n",
       "      <td>0.006944</td>\n",
       "      <td>18.7</td>\n",
       "      <td>20190720</td>\n",
       "      <td>9</td>\n",
       "      <td>0</td>\n",
       "    </tr>\n",
       "    <tr>\n",
       "      <th>1338</th>\n",
       "      <td>102001</td>\n",
       "      <td>20190719</td>\n",
       "      <td>20190720</td>\n",
       "      <td>2300</td>\n",
       "      <td>1200</td>\n",
       "      <td>13</td>\n",
       "      <td>0.000</td>\n",
       "      <td>0.0</td>\n",
       "      <td>2</td>\n",
       "      <td>1.0</td>\n",
       "      <td>1.57</td>\n",
       "      <td>1.189961e-07</td>\n",
       "      <td>24.36</td>\n",
       "      <td>0.006944</td>\n",
       "      <td>15.2</td>\n",
       "      <td>20190720</td>\n",
       "      <td>10</td>\n",
       "      <td>0</td>\n",
       "    </tr>\n",
       "    <tr>\n",
       "      <th>1339</th>\n",
       "      <td>102001</td>\n",
       "      <td>20190719</td>\n",
       "      <td>20190720</td>\n",
       "      <td>2300</td>\n",
       "      <td>1200</td>\n",
       "      <td>13</td>\n",
       "      <td>0.000</td>\n",
       "      <td>0.0</td>\n",
       "      <td>2</td>\n",
       "      <td>1.0</td>\n",
       "      <td>1.57</td>\n",
       "      <td>1.189961e-07</td>\n",
       "      <td>24.36</td>\n",
       "      <td>0.006944</td>\n",
       "      <td>13.6</td>\n",
       "      <td>20190720</td>\n",
       "      <td>11</td>\n",
       "      <td>0</td>\n",
       "    </tr>\n",
       "  </tbody>\n",
       "</table>\n",
       "<p>1340 rows × 18 columns</p>\n",
       "</div>"
      ],
      "text/plain": [
       "         SEQ  F_BEGIN_DE  F_END_DE  F_BEGIN_TM  F_END_TM  FLUD_TIME  \\\n",
       "0      30581    20090716  20090716         800      1200          4   \n",
       "1      30581    20090716  20090716         800      1200          4   \n",
       "2      30581    20090716  20090716         800      1200          4   \n",
       "3      30581    20090716  20090716         800      1200          4   \n",
       "4      30581    20090716  20090716         800      1200          4   \n",
       "...      ...         ...       ...         ...       ...        ...   \n",
       "1335  102001    20190719  20190720        2300      1200         13   \n",
       "1336  102001    20190719  20190720        2300      1200         13   \n",
       "1337  102001    20190719  20190720        2300      1200         13   \n",
       "1338  102001    20190719  20190720        2300      1200         13   \n",
       "1339  102001    20190719  20190720        2300      1200         13   \n",
       "\n",
       "      FLUD_DPWT  SLOPE_L  SLOPE_H  SLOPE_AVG  HIGH    PUMP_RATIO  \\\n",
       "0         0.433      0.0        2        1.0  1.98  1.485884e-07   \n",
       "1         0.433      0.0        2        1.0  1.98  1.485884e-07   \n",
       "2         0.433      0.0        2        1.0  1.98  1.485884e-07   \n",
       "3         0.433      0.0        2        1.0  1.98  1.485884e-07   \n",
       "4         0.433      0.0        2        1.0  1.98  1.485884e-07   \n",
       "...         ...      ...      ...        ...   ...           ...   \n",
       "1335      0.000      0.0        2        1.0  1.57  1.189961e-07   \n",
       "1336      0.000      0.0        2        1.0  1.57  1.189961e-07   \n",
       "1337      0.000      0.0        2        1.0  1.57  1.189961e-07   \n",
       "1338      0.000      0.0        2        1.0  1.57  1.189961e-07   \n",
       "1339      0.000      0.0        2        1.0  1.57  1.189961e-07   \n",
       "\n",
       "      IMP_SUR_RATIO  MANHOLES_RATIO  HOUR_RAINFALL  PRECI_YYMMDDHH  PRECI_HH  \\\n",
       "0             38.20        0.017684           39.0        20090716         7   \n",
       "1             38.20        0.017684           78.0        20090716         8   \n",
       "2             38.20        0.017684           54.5        20090716         9   \n",
       "3             38.20        0.017684           46.0        20090716        10   \n",
       "4             38.20        0.017684           15.5        20090716        11   \n",
       "...             ...             ...            ...             ...       ...   \n",
       "1335          24.36        0.006944            4.8        20190720         7   \n",
       "1336          24.36        0.006944            9.6        20190720         8   \n",
       "1337          24.36        0.006944           18.7        20190720         9   \n",
       "1338          24.36        0.006944           15.2        20190720        10   \n",
       "1339          24.36        0.006944           13.6        20190720        11   \n",
       "\n",
       "      DIST  \n",
       "0        1  \n",
       "1        1  \n",
       "2        1  \n",
       "3        1  \n",
       "4        0  \n",
       "...    ...  \n",
       "1335     0  \n",
       "1336     0  \n",
       "1337     0  \n",
       "1338     0  \n",
       "1339     0  \n",
       "\n",
       "[1340 rows x 18 columns]"
      ]
     },
     "execution_count": 73,
     "metadata": {},
     "output_type": "execute_result"
    }
   ],
   "source": [
    "df=pd.read_excel(\"Final.xlsx\")\n",
    "df"
   ]
  },
  {
   "cell_type": "markdown",
   "metadata": {},
   "source": [
    "## 데이터 세트 분리하기"
   ]
  },
  {
   "cell_type": "code",
   "execution_count": 75,
   "metadata": {},
   "outputs": [],
   "source": [
    "from sklearn.model_selection import train_test_split\n",
    "\n",
    "x = df[['HOUR_RAINFALL','SLOPE_AVG','PUMP_RATIO','IMP_SUR_RATIO','MANHOLES_RATIO']]\n",
    "y = df[['DIST']]\n",
    "x_train, x_test, y_train, y_test = train_test_split(x, y, train_size=0.7, test_size=0.3)"
   ]
  },
  {
   "cell_type": "markdown",
   "metadata": {},
   "source": [
    "## 모델 생성하기"
   ]
  },
  {
   "cell_type": "code",
   "execution_count": 76,
   "metadata": {},
   "outputs": [
    {
     "data": {
      "text/plain": [
       "LinearRegression()"
      ]
     },
     "execution_count": 76,
     "metadata": {},
     "output_type": "execute_result"
    }
   ],
   "source": [
    "from sklearn.linear_model import LinearRegression\n",
    "\n",
    "mlr = LinearRegression()\n",
    "mlr.fit(x_train, y_train)"
   ]
  },
  {
   "cell_type": "code",
   "execution_count": 78,
   "metadata": {},
   "outputs": [],
   "source": [
    "my_apartment = [[65,4.5,1.485884e-07,38.20,0.017684]]\n",
    "my_predict = mlr.predict(my_apartment)"
   ]
  },
  {
   "cell_type": "code",
   "execution_count": 79,
   "metadata": {},
   "outputs": [],
   "source": [
    "y_predict = mlr.predict(x_test)"
   ]
  },
  {
   "cell_type": "markdown",
   "metadata": {},
   "source": [
    "## 시각화"
   ]
  },
  {
   "cell_type": "code",
   "execution_count": 80,
   "metadata": {},
   "outputs": [
    {
     "data": {
      "image/png": "[encoded data removed]",
      "text/plain": [
       "<Figure size 432x288 with 1 Axes>"
      ]
     },
     "metadata": {
      "needs_background": "light"
     },
     "output_type": "display_data"
    }
   ],
   "source": [
    "import matplotlib.pyplot as plt\n",
    "\n",
    "plt.scatter(y_test, y_predict, alpha=0.4)\n",
    "plt.xlabel(\"Actual Rent\")\n",
    "plt.ylabel(\"Predicted Rent\")\n",
    "plt.title(\"MULTIPLE LINEAR REGRESSION\")\n",
    "plt.show()"
   ]
  },
  {
   "cell_type": "markdown",
   "metadata": {},
   "source": [
    "## 회귀계수와 상수 확인하기"
   ]
  },
  {
   "cell_type": "code",
   "execution_count": 81,
   "metadata": {},
   "outputs": [
    {
     "name": "stdout",
     "output_type": "stream",
     "text": [
      "[[ 8.35700410e-03 -8.91393060e-03 -5.68000421e+04 -8.14131967e-04\n",
      "   3.71720306e+00]]\n"
     ]
    }
   ],
   "source": [
    "print(mlr.coef_)"
   ]
  },
  {
   "cell_type": "markdown",
   "metadata": {},
   "source": [
    "## 상관 살펴보기"
   ]
  },
  {
   "cell_type": "markdown",
   "metadata": {},
   "source": [
    "### HOUR_RAINFALL과 상관관계"
   ]
  },
  {
   "cell_type": "code",
   "execution_count": 83,
   "metadata": {
    "scrolled": true
   },
   "outputs": [
    {
     "data": {
      "image/png": "[encoded data removed]",
      "text/plain": [
       "<Figure size 432x288 with 1 Axes>"
      ]
     },
     "metadata": {
      "needs_background": "light"
     },
     "output_type": "display_data"
    }
   ],
   "source": [
    "# 주택의 면적 'size_sqft'과 가격 'rent'\n",
    "plt.scatter(df[['HOUR_RAINFALL']], df[['DIST']], alpha=0.4)\n",
    "plt.show()"
   ]
  },
  {
   "cell_type": "markdown",
   "metadata": {},
   "source": [
    "### SLOPE와 상관관계"
   ]
  },
  {
   "cell_type": "code",
   "execution_count": 85,
   "metadata": {},
   "outputs": [
    {
     "data": {
      "image/png": "[encoded data removed]",
      "text/plain": [
       "<Figure size 432x288 with 1 Axes>"
      ]
     },
     "metadata": {
      "needs_background": "light"
     },
     "output_type": "display_data"
    }
   ],
   "source": [
    "plt.scatter(df[['SLOPE_AVG']], df[['DIST']], alpha=0.4)\n",
    "plt.show()"
   ]
  },
  {
   "cell_type": "markdown",
   "metadata": {},
   "source": [
    "## 모델의 정확도 평가하기\n",
    "- 결정계수 R²가 클수록 실제값과 예측값이 유사함을 의미하며, 데이터를 잘 설명한다"
   ]
  },
  {
   "cell_type": "code",
   "execution_count": 86,
   "metadata": {},
   "outputs": [
    {
     "name": "stdout",
     "output_type": "stream",
     "text": [
      "0.30119531980578285\n"
     ]
    }
   ],
   "source": [
    "print(mlr.score(x_train, y_train))"
   ]
  }
 ],
 "metadata": {
  "kernelspec": {
   "display_name": "Python 3",
   "language": "python",
   "name": "python3"
  },
  "language_info": {
   "codemirror_mode": {
    "name": "ipython",
    "version": 3
   },
   "file_extension": ".py",
   "mimetype": "text/x-python",
   "name": "python",
   "nbconvert_exporter": "python",
   "pygments_lexer": "ipython3",
   "version": "3.7.6"
  }
 },
 "nbformat": 4,
 "nbformat_minor": 4
}
